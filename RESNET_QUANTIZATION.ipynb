{
  "nbformat": 4,
  "nbformat_minor": 0,
  "metadata": {
    "colab": {
      "provenance": [],
      "gpuType": "T4",
      "authorship_tag": "ABX9TyMzNrpBnlXgDXB3HcDIJp6T",
      "include_colab_link": true
    },
    "kernelspec": {
      "name": "python3",
      "display_name": "Python 3"
    },
    "language_info": {
      "name": "python"
    },
    "accelerator": "GPU"
  },
  "cells": [
    {
      "cell_type": "markdown",
      "metadata": {
        "id": "view-in-github",
        "colab_type": "text"
      },
      "source": [
        "<a href=\"https://colab.research.google.com/github/emanfatima20/AI-Powered-Path-Reccomender/blob/main/RESNET_QUANTIZATION.ipynb\" target=\"_parent\"><img src=\"https://colab.research.google.com/assets/colab-badge.svg\" alt=\"Open In Colab\"/></a>"
      ]
    },
    {
      "cell_type": "code",
      "execution_count": null,
      "metadata": {
        "id": "cQGJSj40ucS-"
      },
      "outputs": [],
      "source": [
        "import os, shutil\n",
        "\n",
        "\n",
        "os.makedirs(\"/root/.kaggle\", exist_ok=True)\n",
        "\n",
        "\n",
        "shutil.move(\"kaggle.json\", \"/root/.kaggle/kaggle.json\")\n",
        "\n",
        "!chmod 600 /root/.kaggle/kaggle.json\n"
      ]
    },
    {
      "cell_type": "markdown",
      "source": [
        "**IMPORTING DATASET**"
      ],
      "metadata": {
        "id": "GyeqRzG302xS"
      }
    },
    {
      "cell_type": "code",
      "source": [
        "import kagglehub\n",
        "\n",
        "\n",
        "path = kagglehub.dataset_download(\"utkarshsaxenadn/fruits-classification\")\n",
        "\n",
        "print(\"Path to dataset files:\", path)\n"
      ],
      "metadata": {
        "colab": {
          "base_uri": "https://localhost:8080/"
        },
        "id": "-A4RuVIrvZTq",
        "outputId": "e5a43f4b-997d-4ba3-8169-0bc113efeabc"
      },
      "execution_count": null,
      "outputs": [
        {
          "output_type": "stream",
          "name": "stdout",
          "text": [
            "Using Colab cache for faster access to the 'fruits-classification' dataset.\n",
            "Path to dataset files: /kaggle/input/fruits-classification\n"
          ]
        }
      ]
    },
    {
      "cell_type": "code",
      "source": [
        "import shutil\n",
        "import os\n",
        "\n",
        "\n",
        "original_path = \"/kaggle/input/fruits-classification\"\n",
        "\n",
        "\n",
        "dest_path = \"/content/fruits-classification\"\n",
        "\n",
        "\n",
        "shutil.copytree(original_path, dest_path)\n",
        "\n",
        "print(\"Dataset is now accessible at:\", dest_path)\n"
      ],
      "metadata": {
        "colab": {
          "base_uri": "https://localhost:8080/"
        },
        "id": "Buhsw-njvsiE",
        "outputId": "34620c83-0d37-481d-c45f-f12d5a752757"
      },
      "execution_count": null,
      "outputs": [
        {
          "output_type": "stream",
          "name": "stdout",
          "text": [
            "Dataset is now accessible at: /content/fruits-classification\n"
          ]
        }
      ]
    },
    {
      "cell_type": "markdown",
      "source": [
        "**CREATING BATCHES FOR DATASET**"
      ],
      "metadata": {
        "id": "2qU9Sy601AEA"
      }
    },
    {
      "cell_type": "code",
      "source": [
        "import tensorflow as tf\n",
        "train_dir = \"/content/fruits-classification/Fruits Classification/train\"\n",
        "test_dir  = \"/content/fruits-classification/Fruits Classification/test\"\n",
        "\n",
        "img_size = (224, 224)\n",
        "batch_size = 32\n",
        "\n",
        "train_ds = tf.keras.utils.image_dataset_from_directory(\n",
        "    train_dir,\n",
        "    image_size=img_size,\n",
        "    batch_size=batch_size,\n",
        "    shuffle=True\n",
        ")\n",
        "\n",
        "test_ds = tf.keras.utils.image_dataset_from_directory(\n",
        "    test_dir,\n",
        "    image_size=img_size,\n",
        "    batch_size=batch_size,\n",
        "    shuffle=False\n",
        ")\n",
        "\n",
        "\n",
        "from tensorflow.keras.applications.resnet50 import preprocess_input\n",
        "def preprocess(images, labels):\n",
        "    return preprocess_input(images), labels\n",
        "\n",
        "train_ds = train_ds.map(preprocess).prefetch(tf.data.AUTOTUNE)\n",
        "test_ds  = test_ds.map(preprocess).prefetch(tf.data.AUTOTUNE)\n"
      ],
      "metadata": {
        "colab": {
          "base_uri": "https://localhost:8080/"
        },
        "id": "0qM6qp883_Cu",
        "outputId": "7c973eac-af1e-4dd2-f82d-9e8c8620dfb6"
      },
      "execution_count": null,
      "outputs": [
        {
          "output_type": "stream",
          "name": "stdout",
          "text": [
            "Found 9700 files belonging to 5 classes.\n",
            "Found 100 files belonging to 5 classes.\n"
          ]
        }
      ]
    },
    {
      "cell_type": "code",
      "source": [],
      "metadata": {
        "id": "pXSoNxIN1RO4"
      },
      "execution_count": null,
      "outputs": []
    },
    {
      "cell_type": "code",
      "source": [],
      "metadata": {
        "id": "Di2IKqRR1RLv"
      },
      "execution_count": null,
      "outputs": []
    },
    {
      "cell_type": "markdown",
      "source": [
        "**IMPORTING RESNET AND FINE TUNING IT ON MY MODEL TO IMPROVE ACCURACY ON MY DATASET**"
      ],
      "metadata": {
        "id": "_lKPjubl1KHq"
      }
    },
    {
      "cell_type": "code",
      "source": [
        "from tensorflow.keras.layers import  Dense, Dropout, Input\n",
        "from tensorflow.keras.applications import ResNet50\n",
        "base_model = ResNet50(\n",
        "    weights=\"imagenet\",\n",
        "    include_top=False,\n",
        "    input_tensor=Input(shape=(224,224,3))\n",
        ")\n",
        "\n",
        "# Freeze all CNN layers (Conv2D + pooling)\n",
        "base_model.trainable = False\n"
      ],
      "metadata": {
        "id": "gfxbkchN3chP"
      },
      "execution_count": null,
      "outputs": []
    },
    {
      "cell_type": "code",
      "source": [
        "import tensorflow as tf\n",
        "from tensorflow.keras.models import Sequential\n",
        "\n",
        "\n",
        "from tensorflow.keras.layers import Dense, Dropout, Input, Flatten\n",
        "\n",
        "\n",
        "\n",
        "model=Sequential()\n",
        "model.add(base_model)\n",
        "model.add(Flatten())\n",
        "model.add(Dense(128,activation='relu'))\n",
        "model.add(Dense(5, activation='softmax'))\n",
        "model.compile(loss='sparse_categorical_crossentropy', optimizer='adam', metrics=['accuracy'])\n"
      ],
      "metadata": {
        "id": "WnOH-ldv2W3T"
      },
      "execution_count": null,
      "outputs": []
    },
    {
      "cell_type": "code",
      "source": [
        "from tensorflow.keras.callbacks import ModelCheckpoint\n",
        "\n",
        "\n",
        "checkpoint_cb = ModelCheckpoint(\n",
        "    \"resnet_fruit_model_epoch_{epoch:02d}.keras\",\n",
        "    save_best_only=False,\n",
        "    save_weights_only=False,\n",
        "    verbose=1\n",
        ")\n",
        "\n",
        "history = model.fit(\n",
        "    train_ds,\n",
        "    validation_data=test_ds,\n",
        "    epochs=10,\n",
        "    callbacks=[checkpoint_cb]\n",
        ")\n"
      ],
      "metadata": {
        "colab": {
          "base_uri": "https://localhost:8080/"
        },
        "id": "nMn62jxI4if8",
        "outputId": "d063fcc8-70bc-4807-8922-db44f033b977"
      },
      "execution_count": null,
      "outputs": [
        {
          "output_type": "stream",
          "name": "stdout",
          "text": [
            "Epoch 1/10\n",
            "\u001b[1m304/304\u001b[0m \u001b[32m━━━━━━━━━━━━━━━━━━━━\u001b[0m\u001b[37m\u001b[0m \u001b[1m0s\u001b[0m 107ms/step - accuracy: 0.7173 - loss: 3.6580\n",
            "Epoch 1: saving model to resnet_fruit_model_epoch_01.keras\n",
            "\u001b[1m304/304\u001b[0m \u001b[32m━━━━━━━━━━━━━━━━━━━━\u001b[0m\u001b[37m\u001b[0m \u001b[1m54s\u001b[0m 132ms/step - accuracy: 0.7176 - loss: 3.6503 - val_accuracy: 0.8400 - val_loss: 0.5089\n",
            "Epoch 2/10\n",
            "\u001b[1m303/304\u001b[0m \u001b[32m━━━━━━━━━━━━━━━━━━━\u001b[0m\u001b[37m━\u001b[0m \u001b[1m0s\u001b[0m 84ms/step - accuracy: 0.9033 - loss: 0.2865\n",
            "Epoch 2: saving model to resnet_fruit_model_epoch_02.keras\n",
            "\u001b[1m304/304\u001b[0m \u001b[32m━━━━━━━━━━━━━━━━━━━━\u001b[0m\u001b[37m\u001b[0m \u001b[1m28s\u001b[0m 92ms/step - accuracy: 0.9033 - loss: 0.2865 - val_accuracy: 0.8700 - val_loss: 0.3898\n",
            "Epoch 3/10\n",
            "\u001b[1m303/304\u001b[0m \u001b[32m━━━━━━━━━━━━━━━━━━━\u001b[0m\u001b[37m━\u001b[0m \u001b[1m0s\u001b[0m 86ms/step - accuracy: 0.9468 - loss: 0.1608\n",
            "Epoch 3: saving model to resnet_fruit_model_epoch_03.keras\n",
            "\u001b[1m304/304\u001b[0m \u001b[32m━━━━━━━━━━━━━━━━━━━━\u001b[0m\u001b[37m\u001b[0m \u001b[1m41s\u001b[0m 92ms/step - accuracy: 0.9468 - loss: 0.1608 - val_accuracy: 0.8800 - val_loss: 0.5215\n",
            "Epoch 4/10\n",
            "\u001b[1m303/304\u001b[0m \u001b[32m━━━━━━━━━━━━━━━━━━━\u001b[0m\u001b[37m━\u001b[0m \u001b[1m0s\u001b[0m 86ms/step - accuracy: 0.9594 - loss: 0.1184\n",
            "Epoch 4: saving model to resnet_fruit_model_epoch_04.keras\n",
            "\u001b[1m304/304\u001b[0m \u001b[32m━━━━━━━━━━━━━━━━━━━━\u001b[0m\u001b[37m\u001b[0m \u001b[1m41s\u001b[0m 92ms/step - accuracy: 0.9594 - loss: 0.1183 - val_accuracy: 0.8900 - val_loss: 0.4692\n",
            "Epoch 5/10\n",
            "\u001b[1m303/304\u001b[0m \u001b[32m━━━━━━━━━━━━━━━━━━━\u001b[0m\u001b[37m━\u001b[0m \u001b[1m0s\u001b[0m 86ms/step - accuracy: 0.9792 - loss: 0.0631\n",
            "Epoch 5: saving model to resnet_fruit_model_epoch_05.keras\n",
            "\u001b[1m304/304\u001b[0m \u001b[32m━━━━━━━━━━━━━━━━━━━━\u001b[0m\u001b[37m\u001b[0m \u001b[1m29s\u001b[0m 94ms/step - accuracy: 0.9792 - loss: 0.0632 - val_accuracy: 0.9000 - val_loss: 0.4641\n",
            "Epoch 6/10\n",
            "\u001b[1m303/304\u001b[0m \u001b[32m━━━━━━━━━━━━━━━━━━━\u001b[0m\u001b[37m━\u001b[0m \u001b[1m0s\u001b[0m 86ms/step - accuracy: 0.9790 - loss: 0.0592\n",
            "Epoch 6: saving model to resnet_fruit_model_epoch_06.keras\n",
            "\u001b[1m304/304\u001b[0m \u001b[32m━━━━━━━━━━━━━━━━━━━━\u001b[0m\u001b[37m\u001b[0m \u001b[1m40s\u001b[0m 92ms/step - accuracy: 0.9790 - loss: 0.0591 - val_accuracy: 0.9000 - val_loss: 0.5976\n",
            "Epoch 7/10\n",
            "\u001b[1m303/304\u001b[0m \u001b[32m━━━━━━━━━━━━━━━━━━━\u001b[0m\u001b[37m━\u001b[0m \u001b[1m0s\u001b[0m 86ms/step - accuracy: 0.9810 - loss: 0.0485\n",
            "Epoch 7: saving model to resnet_fruit_model_epoch_07.keras\n",
            "\u001b[1m304/304\u001b[0m \u001b[32m━━━━━━━━━━━━━━━━━━━━\u001b[0m\u001b[37m\u001b[0m \u001b[1m28s\u001b[0m 91ms/step - accuracy: 0.9811 - loss: 0.0484 - val_accuracy: 0.9000 - val_loss: 0.5740\n",
            "Epoch 8/10\n",
            "\u001b[1m303/304\u001b[0m \u001b[32m━━━━━━━━━━━━━━━━━━━\u001b[0m\u001b[37m━\u001b[0m \u001b[1m0s\u001b[0m 86ms/step - accuracy: 0.9859 - loss: 0.0347\n",
            "Epoch 8: saving model to resnet_fruit_model_epoch_08.keras\n",
            "\u001b[1m304/304\u001b[0m \u001b[32m━━━━━━━━━━━━━━━━━━━━\u001b[0m\u001b[37m\u001b[0m \u001b[1m28s\u001b[0m 92ms/step - accuracy: 0.9859 - loss: 0.0347 - val_accuracy: 0.8800 - val_loss: 0.5046\n",
            "Epoch 9/10\n",
            "\u001b[1m303/304\u001b[0m \u001b[32m━━━━━━━━━━━━━━━━━━━\u001b[0m\u001b[37m━\u001b[0m \u001b[1m0s\u001b[0m 86ms/step - accuracy: 0.9803 - loss: 0.0502\n",
            "Epoch 9: saving model to resnet_fruit_model_epoch_09.keras\n",
            "\u001b[1m304/304\u001b[0m \u001b[32m━━━━━━━━━━━━━━━━━━━━\u001b[0m\u001b[37m\u001b[0m \u001b[1m42s\u001b[0m 94ms/step - accuracy: 0.9803 - loss: 0.0502 - val_accuracy: 0.8800 - val_loss: 0.8950\n",
            "Epoch 10/10\n",
            "\u001b[1m303/304\u001b[0m \u001b[32m━━━━━━━━━━━━━━━━━━━\u001b[0m\u001b[37m━\u001b[0m \u001b[1m0s\u001b[0m 87ms/step - accuracy: 0.9769 - loss: 0.0688\n",
            "Epoch 10: saving model to resnet_fruit_model_epoch_10.keras\n",
            "\u001b[1m304/304\u001b[0m \u001b[32m━━━━━━━━━━━━━━━━━━━━\u001b[0m\u001b[37m\u001b[0m \u001b[1m40s\u001b[0m 93ms/step - accuracy: 0.9769 - loss: 0.0688 - val_accuracy: 0.8500 - val_loss: 0.8720\n"
          ]
        }
      ]
    },
    {
      "cell_type": "code",
      "source": [
        "from keras.models import load_model\n",
        "\n",
        "final_model = load_model(\"resnet_fruit_model_epoch_10.keras\")\n"
      ],
      "metadata": {
        "id": "9uXTy4k2rY9g"
      },
      "execution_count": null,
      "outputs": []
    },
    {
      "cell_type": "code",
      "source": [
        "\n",
        "loss, acc = final_model.evaluate(test_ds, verbose=0)\n",
        "print(f\"Original Model Accuracy: {acc*100:.2f}%\")"
      ],
      "metadata": {
        "colab": {
          "base_uri": "https://localhost:8080/"
        },
        "id": "6IhlY3Ga61-v",
        "outputId": "8ea3b6b8-f451-4d38-af14-06f12504d9d7"
      },
      "execution_count": null,
      "outputs": [
        {
          "output_type": "stream",
          "name": "stdout",
          "text": [
            "Original Model Accuracy: 85.00%\n"
          ]
        }
      ]
    },
    {
      "cell_type": "code",
      "source": [
        "import os\n",
        "\n",
        "keras_model_file = \"resnet_fruit_model_epoch_10.keras\"\n",
        "size_bytes = os.path.getsize(keras_model_file)\n",
        "size_mb = size_bytes / (1024 * 1024)\n",
        "print(f\"Keras model size: {size_mb:.2f} MB\")"
      ],
      "metadata": {
        "colab": {
          "base_uri": "https://localhost:8080/"
        },
        "id": "OIgZKIaQ1hBh",
        "outputId": "0ff00b06-c8df-4b18-d771-8b86bd1c580e"
      },
      "execution_count": null,
      "outputs": [
        {
          "output_type": "stream",
          "name": "stdout",
          "text": [
            "Keras model size: 237.62 MB\n"
          ]
        }
      ]
    },
    {
      "cell_type": "markdown",
      "source": [
        "CONCLUSION:FOR ORIGINLAL MODEL THE SIZE IS 265 MB AND ACCURACY IS 85%"
      ],
      "metadata": {
        "id": "AvICgVhs1jfI"
      }
    },
    {
      "cell_type": "markdown",
      "source": [
        "**POST TRAINING QUANTIZATION**"
      ],
      "metadata": {
        "id": "E7H98NzK11O5"
      }
    },
    {
      "cell_type": "code",
      "source": [
        "import tensorflow as tf\n",
        "import numpy as np\n",
        "import os\n",
        "from keras.models import load_model\n",
        "\n",
        "\n",
        "final_model = load_model(\"resnet_fruit_model_epoch_10.keras\")\n",
        "\n",
        "\n",
        "\n",
        "def representative_data_gen():\n",
        "    for images, _ in train_ds.take(20):\n",
        "        images = tf.cast(images, tf.float32)\n",
        "        yield [images[:8]]\n",
        "\n",
        "converter = tf.lite.TFLiteConverter.from_keras_model(final_model)\n",
        "converter.optimizations = [tf.lite.Optimize.DEFAULT]\n",
        "converter.representative_dataset = representative_data_gen\n",
        "converter.target_spec.supported_ops = [tf.lite.OpsSet.TFLITE_BUILTINS_INT8]\n",
        "\n",
        "\n",
        "converter.inference_input_type = tf.int8\n",
        "converter.inference_output_type = tf.int8\n",
        "\n",
        "\n",
        "tflite_model_int8 = converter.convert()\n",
        "\n",
        "\n",
        "tflite_file = \"resnet_fruit_model_int8.tflite\"\n",
        "with open(tflite_file, \"wb\") as f:\n",
        "    f.write(tflite_model_int8)\n",
        "print(f\"Full int8 TFLite model saved: {tflite_file}\")\n",
        "\n",
        "\n",
        "size_mb = os.path.getsize(tflite_file) / (1024 * 1024)\n",
        "print(f\"TFLite model size: {size_mb:.2f} MB\")\n",
        "\n",
        "\n",
        "interpreter = tf.lite.Interpreter(model_path=tflite_file)\n",
        "interpreter.allocate_tensors()\n",
        "input_details = interpreter.get_input_details()\n",
        "output_details = interpreter.get_output_details()\n",
        "\n",
        "\n",
        "accuracy = 0\n",
        "total = 0\n",
        "\n",
        "for images, labels in test_ds:\n",
        "\n",
        "    images_np = images.numpy()\n",
        "\n",
        "\n",
        "    scale, zero_point = input_details[0]['quantization']\n",
        "    images_int8 = images_np / scale + zero_point\n",
        "    images_int8 = images_int8.astype(np.int8)\n",
        "\n",
        "\n",
        "    interpreter.resize_tensor_input(input_details[0]['index'], images_int8.shape)\n",
        "    interpreter.allocate_tensors()\n",
        "    interpreter.set_tensor(input_details[0]['index'], images_int8)\n",
        "    interpreter.invoke()\n",
        "\n",
        "\n",
        "    predictions = interpreter.get_tensor(output_details[0]['index'])\n",
        "    scale_out, zero_point_out = output_details[0]['quantization']\n",
        "    predictions_float = (predictions.astype(np.float32) - zero_point_out) * scale_out\n",
        "    predicted_labels = np.argmax(predictions_float, axis=1)\n",
        "\n",
        "    accuracy += np.sum(predicted_labels == labels.numpy())\n",
        "    total += len(labels)\n",
        "\n",
        "tflite_acc = accuracy / total\n",
        "print(f\"Full int8 TFLite Model Accuracy: {tflite_acc*100:.2f}%\")\n"
      ],
      "metadata": {
        "colab": {
          "base_uri": "https://localhost:8080/"
        },
        "id": "khi7qU4QwMy8",
        "outputId": "7e6e374d-af36-4982-b48b-6cc297c58cdc"
      },
      "execution_count": null,
      "outputs": [
        {
          "output_type": "stream",
          "name": "stdout",
          "text": [
            "Saved artifact at '/tmp/tmpyr03_n1c'. The following endpoints are available:\n",
            "\n",
            "* Endpoint 'serve'\n",
            "  args_0 (POSITIONAL_ONLY): TensorSpec(shape=(None, 224, 224, 3), dtype=tf.float32, name='input_layer_2')\n",
            "Output Type:\n",
            "  TensorSpec(shape=(None, 5), dtype=tf.float32, name=None)\n",
            "Captures:\n",
            "  137927314159760: TensorSpec(shape=(), dtype=tf.resource, name=None)\n",
            "  137927314158992: TensorSpec(shape=(), dtype=tf.resource, name=None)\n",
            "  137927314160144: TensorSpec(shape=(), dtype=tf.resource, name=None)\n",
            "  137927314159184: TensorSpec(shape=(), dtype=tf.resource, name=None)\n",
            "  137927314159376: TensorSpec(shape=(), dtype=tf.resource, name=None)\n",
            "  137927314158416: TensorSpec(shape=(), dtype=tf.resource, name=None)\n",
            "  137927314159568: TensorSpec(shape=(), dtype=tf.resource, name=None)\n",
            "  137927314158800: TensorSpec(shape=(), dtype=tf.resource, name=None)\n",
            "  137927314441424: TensorSpec(shape=(), dtype=tf.resource, name=None)\n",
            "  137927314441616: TensorSpec(shape=(), dtype=tf.resource, name=None)\n",
            "  137927314160528: TensorSpec(shape=(), dtype=tf.resource, name=None)\n",
            "  137927314160720: TensorSpec(shape=(), dtype=tf.resource, name=None)\n",
            "  137927314440272: TensorSpec(shape=(), dtype=tf.resource, name=None)\n",
            "  137927314440848: TensorSpec(shape=(), dtype=tf.resource, name=None)\n",
            "  137927314441232: TensorSpec(shape=(), dtype=tf.resource, name=None)\n",
            "  137927314442768: TensorSpec(shape=(), dtype=tf.resource, name=None)\n",
            "  137927314442576: TensorSpec(shape=(), dtype=tf.resource, name=None)\n",
            "  137927314441040: TensorSpec(shape=(), dtype=tf.resource, name=None)\n",
            "  137927314443536: TensorSpec(shape=(), dtype=tf.resource, name=None)\n",
            "  137927314442960: TensorSpec(shape=(), dtype=tf.resource, name=None)\n",
            "  137927314442384: TensorSpec(shape=(), dtype=tf.resource, name=None)\n",
            "  137927314441808: TensorSpec(shape=(), dtype=tf.resource, name=None)\n",
            "  137927314440464: TensorSpec(shape=(), dtype=tf.resource, name=None)\n",
            "  137927314444304: TensorSpec(shape=(), dtype=tf.resource, name=None)\n",
            "  137927314444112: TensorSpec(shape=(), dtype=tf.resource, name=None)\n",
            "  137927314443152: TensorSpec(shape=(), dtype=tf.resource, name=None)\n",
            "  137927314444880: TensorSpec(shape=(), dtype=tf.resource, name=None)\n",
            "  137927314445072: TensorSpec(shape=(), dtype=tf.resource, name=None)\n",
            "  137927314444496: TensorSpec(shape=(), dtype=tf.resource, name=None)\n",
            "  137927314444688: TensorSpec(shape=(), dtype=tf.resource, name=None)\n",
            "  137927314443920: TensorSpec(shape=(), dtype=tf.resource, name=None)\n",
            "  137927314443728: TensorSpec(shape=(), dtype=tf.resource, name=None)\n",
            "  137927314442192: TensorSpec(shape=(), dtype=tf.resource, name=None)\n",
            "  137927314446224: TensorSpec(shape=(), dtype=tf.resource, name=None)\n",
            "  137927314446032: TensorSpec(shape=(), dtype=tf.resource, name=None)\n",
            "  137927314442000: TensorSpec(shape=(), dtype=tf.resource, name=None)\n",
            "  137927314445840: TensorSpec(shape=(), dtype=tf.resource, name=None)\n",
            "  137927314445264: TensorSpec(shape=(), dtype=tf.resource, name=None)\n",
            "  137927314443344: TensorSpec(shape=(), dtype=tf.resource, name=None)\n",
            "  137927314447376: TensorSpec(shape=(), dtype=tf.resource, name=None)\n",
            "  137927314447184: TensorSpec(shape=(), dtype=tf.resource, name=None)\n",
            "  137927314445456: TensorSpec(shape=(), dtype=tf.resource, name=None)\n",
            "  137927314446992: TensorSpec(shape=(), dtype=tf.resource, name=None)\n",
            "  137927314446416: TensorSpec(shape=(), dtype=tf.resource, name=None)\n",
            "  137927314440656: TensorSpec(shape=(), dtype=tf.resource, name=None)\n",
            "  137927314448528: TensorSpec(shape=(), dtype=tf.resource, name=None)\n",
            "  137927314448336: TensorSpec(shape=(), dtype=tf.resource, name=None)\n",
            "  137927314446608: TensorSpec(shape=(), dtype=tf.resource, name=None)\n",
            "  137927314448144: TensorSpec(shape=(), dtype=tf.resource, name=None)\n",
            "  137927314447568: TensorSpec(shape=(), dtype=tf.resource, name=None)\n",
            "  137927314445648: TensorSpec(shape=(), dtype=tf.resource, name=None)\n",
            "  137927314449680: TensorSpec(shape=(), dtype=tf.resource, name=None)\n",
            "  137927314449488: TensorSpec(shape=(), dtype=tf.resource, name=None)\n",
            "  137927314447760: TensorSpec(shape=(), dtype=tf.resource, name=None)\n",
            "  137927314449296: TensorSpec(shape=(), dtype=tf.resource, name=None)\n",
            "  137927314448720: TensorSpec(shape=(), dtype=tf.resource, name=None)\n",
            "  137927314446800: TensorSpec(shape=(), dtype=tf.resource, name=None)\n",
            "  137927314450832: TensorSpec(shape=(), dtype=tf.resource, name=None)\n",
            "  137927314450640: TensorSpec(shape=(), dtype=tf.resource, name=None)\n",
            "  137927314448912: TensorSpec(shape=(), dtype=tf.resource, name=None)\n",
            "  137927314450448: TensorSpec(shape=(), dtype=tf.resource, name=None)\n",
            "  137927314449872: TensorSpec(shape=(), dtype=tf.resource, name=None)\n",
            "  137927314447952: TensorSpec(shape=(), dtype=tf.resource, name=None)\n",
            "  137927314451984: TensorSpec(shape=(), dtype=tf.resource, name=None)\n",
            "  137927314451792: TensorSpec(shape=(), dtype=tf.resource, name=None)\n",
            "  137927314450064: TensorSpec(shape=(), dtype=tf.resource, name=None)\n",
            "  137927314451600: TensorSpec(shape=(), dtype=tf.resource, name=None)\n",
            "  137927314451024: TensorSpec(shape=(), dtype=tf.resource, name=None)\n",
            "  137927314449104: TensorSpec(shape=(), dtype=tf.resource, name=None)\n",
            "  137927314453136: TensorSpec(shape=(), dtype=tf.resource, name=None)\n",
            "  137927314452944: TensorSpec(shape=(), dtype=tf.resource, name=None)\n",
            "  137927314451216: TensorSpec(shape=(), dtype=tf.resource, name=None)\n",
            "  137927314452752: TensorSpec(shape=(), dtype=tf.resource, name=None)\n",
            "  137927314452176: TensorSpec(shape=(), dtype=tf.resource, name=None)\n",
            "  137927314450256: TensorSpec(shape=(), dtype=tf.resource, name=None)\n",
            "  137927314454288: TensorSpec(shape=(), dtype=tf.resource, name=None)\n",
            "  137927314454096: TensorSpec(shape=(), dtype=tf.resource, name=None)\n",
            "  137927314452368: TensorSpec(shape=(), dtype=tf.resource, name=None)\n",
            "  137927314455056: TensorSpec(shape=(), dtype=tf.resource, name=None)\n",
            "  137927314454480: TensorSpec(shape=(), dtype=tf.resource, name=None)\n",
            "  137927314453904: TensorSpec(shape=(), dtype=tf.resource, name=None)\n",
            "  137927314453328: TensorSpec(shape=(), dtype=tf.resource, name=None)\n",
            "  137927314452560: TensorSpec(shape=(), dtype=tf.resource, name=None)\n",
            "  137927314455824: TensorSpec(shape=(), dtype=tf.resource, name=None)\n",
            "  137927314455632: TensorSpec(shape=(), dtype=tf.resource, name=None)\n",
            "  137927314454672: TensorSpec(shape=(), dtype=tf.resource, name=None)\n",
            "  137927314453520: TensorSpec(shape=(), dtype=tf.resource, name=None)\n",
            "  137927314451408: TensorSpec(shape=(), dtype=tf.resource, name=None)\n",
            "  137927314456016: TensorSpec(shape=(), dtype=tf.resource, name=None)\n",
            "  137927314456208: TensorSpec(shape=(), dtype=tf.resource, name=None)\n",
            "  137927314454864: TensorSpec(shape=(), dtype=tf.resource, name=None)\n",
            "  137927314456400: TensorSpec(shape=(), dtype=tf.resource, name=None)\n",
            "  137927314453712: TensorSpec(shape=(), dtype=tf.resource, name=None)\n",
            "  137926431737040: TensorSpec(shape=(), dtype=tf.resource, name=None)\n",
            "  137927314455248: TensorSpec(shape=(), dtype=tf.resource, name=None)\n",
            "  137927314455440: TensorSpec(shape=(), dtype=tf.resource, name=None)\n",
            "  137926431736080: TensorSpec(shape=(), dtype=tf.resource, name=None)\n",
            "  137926431736848: TensorSpec(shape=(), dtype=tf.resource, name=None)\n",
            "  137926431736656: TensorSpec(shape=(), dtype=tf.resource, name=None)\n",
            "  137926431738192: TensorSpec(shape=(), dtype=tf.resource, name=None)\n",
            "  137926431738000: TensorSpec(shape=(), dtype=tf.resource, name=None)\n",
            "  137926431736464: TensorSpec(shape=(), dtype=tf.resource, name=None)\n",
            "  137926431737808: TensorSpec(shape=(), dtype=tf.resource, name=None)\n",
            "  137926431737232: TensorSpec(shape=(), dtype=tf.resource, name=None)\n",
            "  137926431736272: TensorSpec(shape=(), dtype=tf.resource, name=None)\n",
            "  137926431739344: TensorSpec(shape=(), dtype=tf.resource, name=None)\n",
            "  137926431739152: TensorSpec(shape=(), dtype=tf.resource, name=None)\n",
            "  137926431737424: TensorSpec(shape=(), dtype=tf.resource, name=None)\n",
            "  137926431738960: TensorSpec(shape=(), dtype=tf.resource, name=None)\n",
            "  137926431738384: TensorSpec(shape=(), dtype=tf.resource, name=None)\n",
            "  137926431735888: TensorSpec(shape=(), dtype=tf.resource, name=None)\n",
            "  137926431740496: TensorSpec(shape=(), dtype=tf.resource, name=None)\n",
            "  137926431740304: TensorSpec(shape=(), dtype=tf.resource, name=None)\n",
            "  137926431738576: TensorSpec(shape=(), dtype=tf.resource, name=None)\n",
            "  137926431740112: TensorSpec(shape=(), dtype=tf.resource, name=None)\n",
            "  137926431739536: TensorSpec(shape=(), dtype=tf.resource, name=None)\n",
            "  137926431737616: TensorSpec(shape=(), dtype=tf.resource, name=None)\n",
            "  137926431741648: TensorSpec(shape=(), dtype=tf.resource, name=None)\n",
            "  137926431741456: TensorSpec(shape=(), dtype=tf.resource, name=None)\n",
            "  137926431739728: TensorSpec(shape=(), dtype=tf.resource, name=None)\n",
            "  137926431741264: TensorSpec(shape=(), dtype=tf.resource, name=None)\n",
            "  137926431740688: TensorSpec(shape=(), dtype=tf.resource, name=None)\n",
            "  137926431738768: TensorSpec(shape=(), dtype=tf.resource, name=None)\n",
            "  137926431742800: TensorSpec(shape=(), dtype=tf.resource, name=None)\n",
            "  137926431742608: TensorSpec(shape=(), dtype=tf.resource, name=None)\n",
            "  137926431740880: TensorSpec(shape=(), dtype=tf.resource, name=None)\n",
            "  137926431742416: TensorSpec(shape=(), dtype=tf.resource, name=None)\n",
            "  137926431741840: TensorSpec(shape=(), dtype=tf.resource, name=None)\n",
            "  137926431739920: TensorSpec(shape=(), dtype=tf.resource, name=None)\n",
            "  137926431743952: TensorSpec(shape=(), dtype=tf.resource, name=None)\n",
            "  137926431743760: TensorSpec(shape=(), dtype=tf.resource, name=None)\n",
            "  137926431742032: TensorSpec(shape=(), dtype=tf.resource, name=None)\n",
            "  137926431743568: TensorSpec(shape=(), dtype=tf.resource, name=None)\n",
            "  137926431742992: TensorSpec(shape=(), dtype=tf.resource, name=None)\n",
            "  137926431741072: TensorSpec(shape=(), dtype=tf.resource, name=None)\n",
            "  137926431745104: TensorSpec(shape=(), dtype=tf.resource, name=None)\n",
            "  137926431744912: TensorSpec(shape=(), dtype=tf.resource, name=None)\n",
            "  137926431743184: TensorSpec(shape=(), dtype=tf.resource, name=None)\n",
            "  137926431744720: TensorSpec(shape=(), dtype=tf.resource, name=None)\n",
            "  137926431744144: TensorSpec(shape=(), dtype=tf.resource, name=None)\n",
            "  137926431742224: TensorSpec(shape=(), dtype=tf.resource, name=None)\n",
            "  137926431746256: TensorSpec(shape=(), dtype=tf.resource, name=None)\n",
            "  137926431746064: TensorSpec(shape=(), dtype=tf.resource, name=None)\n",
            "  137926431744336: TensorSpec(shape=(), dtype=tf.resource, name=None)\n",
            "  137926431745872: TensorSpec(shape=(), dtype=tf.resource, name=None)\n",
            "  137926431745296: TensorSpec(shape=(), dtype=tf.resource, name=None)\n",
            "  137926431743376: TensorSpec(shape=(), dtype=tf.resource, name=None)\n",
            "  137926431747408: TensorSpec(shape=(), dtype=tf.resource, name=None)\n",
            "  137926431747216: TensorSpec(shape=(), dtype=tf.resource, name=None)\n",
            "  137926431745488: TensorSpec(shape=(), dtype=tf.resource, name=None)\n",
            "  137926431747024: TensorSpec(shape=(), dtype=tf.resource, name=None)\n",
            "  137926431746448: TensorSpec(shape=(), dtype=tf.resource, name=None)\n",
            "  137926431744528: TensorSpec(shape=(), dtype=tf.resource, name=None)\n",
            "  137926431748560: TensorSpec(shape=(), dtype=tf.resource, name=None)\n",
            "  137926431748368: TensorSpec(shape=(), dtype=tf.resource, name=None)\n",
            "  137926431746640: TensorSpec(shape=(), dtype=tf.resource, name=None)\n",
            "  137926431749328: TensorSpec(shape=(), dtype=tf.resource, name=None)\n",
            "  137926431748752: TensorSpec(shape=(), dtype=tf.resource, name=None)\n",
            "  137926431748176: TensorSpec(shape=(), dtype=tf.resource, name=None)\n",
            "  137926431747600: TensorSpec(shape=(), dtype=tf.resource, name=None)\n",
            "  137926431746832: TensorSpec(shape=(), dtype=tf.resource, name=None)\n",
            "  137926431750096: TensorSpec(shape=(), dtype=tf.resource, name=None)\n",
            "  137926431749904: TensorSpec(shape=(), dtype=tf.resource, name=None)\n",
            "  137926431748944: TensorSpec(shape=(), dtype=tf.resource, name=None)\n",
            "  137926431750672: TensorSpec(shape=(), dtype=tf.resource, name=None)\n",
            "  137926431750864: TensorSpec(shape=(), dtype=tf.resource, name=None)\n",
            "  137926431750288: TensorSpec(shape=(), dtype=tf.resource, name=None)\n",
            "  137926431750480: TensorSpec(shape=(), dtype=tf.resource, name=None)\n",
            "  137926431749712: TensorSpec(shape=(), dtype=tf.resource, name=None)\n",
            "  137926431749520: TensorSpec(shape=(), dtype=tf.resource, name=None)\n",
            "  137926431747984: TensorSpec(shape=(), dtype=tf.resource, name=None)\n",
            "  137926431751632: TensorSpec(shape=(), dtype=tf.resource, name=None)\n",
            "  137926431751824: TensorSpec(shape=(), dtype=tf.resource, name=None)\n",
            "  137926431747792: TensorSpec(shape=(), dtype=tf.resource, name=None)\n",
            "  137926431752016: TensorSpec(shape=(), dtype=tf.resource, name=None)\n",
            "  137926431749136: TensorSpec(shape=(), dtype=tf.resource, name=None)\n",
            "  137926431751056: TensorSpec(shape=(), dtype=tf.resource, name=None)\n",
            "  137926431751440: TensorSpec(shape=(), dtype=tf.resource, name=None)\n",
            "  137926431745680: TensorSpec(shape=(), dtype=tf.resource, name=None)\n",
            "  137926431751248: TensorSpec(shape=(), dtype=tf.resource, name=None)\n",
            "  137925875826960: TensorSpec(shape=(), dtype=tf.resource, name=None)\n",
            "  137925875827536: TensorSpec(shape=(), dtype=tf.resource, name=None)\n",
            "  137925875827152: TensorSpec(shape=(), dtype=tf.resource, name=None)\n",
            "  137925875828880: TensorSpec(shape=(), dtype=tf.resource, name=None)\n",
            "  137925875828688: TensorSpec(shape=(), dtype=tf.resource, name=None)\n",
            "  137925875827344: TensorSpec(shape=(), dtype=tf.resource, name=None)\n",
            "  137925875828496: TensorSpec(shape=(), dtype=tf.resource, name=None)\n",
            "  137925875827920: TensorSpec(shape=(), dtype=tf.resource, name=None)\n",
            "  137925875827728: TensorSpec(shape=(), dtype=tf.resource, name=None)\n",
            "  137925875830032: TensorSpec(shape=(), dtype=tf.resource, name=None)\n",
            "  137925875829840: TensorSpec(shape=(), dtype=tf.resource, name=None)\n",
            "  137925875828112: TensorSpec(shape=(), dtype=tf.resource, name=None)\n",
            "  137925875829648: TensorSpec(shape=(), dtype=tf.resource, name=None)\n",
            "  137925875829072: TensorSpec(shape=(), dtype=tf.resource, name=None)\n",
            "  137925875826768: TensorSpec(shape=(), dtype=tf.resource, name=None)\n",
            "  137925875831184: TensorSpec(shape=(), dtype=tf.resource, name=None)\n",
            "  137925875830992: TensorSpec(shape=(), dtype=tf.resource, name=None)\n",
            "  137925875829264: TensorSpec(shape=(), dtype=tf.resource, name=None)\n",
            "  137925875830800: TensorSpec(shape=(), dtype=tf.resource, name=None)\n",
            "  137925875830224: TensorSpec(shape=(), dtype=tf.resource, name=None)\n",
            "  137925875828304: TensorSpec(shape=(), dtype=tf.resource, name=None)\n",
            "  137925875832336: TensorSpec(shape=(), dtype=tf.resource, name=None)\n",
            "  137925875832144: TensorSpec(shape=(), dtype=tf.resource, name=None)\n",
            "  137925875830416: TensorSpec(shape=(), dtype=tf.resource, name=None)\n",
            "  137925875831952: TensorSpec(shape=(), dtype=tf.resource, name=None)\n",
            "  137925875831376: TensorSpec(shape=(), dtype=tf.resource, name=None)\n",
            "  137925875829456: TensorSpec(shape=(), dtype=tf.resource, name=None)\n",
            "  137925875833488: TensorSpec(shape=(), dtype=tf.resource, name=None)\n",
            "  137925875833296: TensorSpec(shape=(), dtype=tf.resource, name=None)\n",
            "  137925875831568: TensorSpec(shape=(), dtype=tf.resource, name=None)\n",
            "  137925875833104: TensorSpec(shape=(), dtype=tf.resource, name=None)\n",
            "  137925875832528: TensorSpec(shape=(), dtype=tf.resource, name=None)\n",
            "  137925875830608: TensorSpec(shape=(), dtype=tf.resource, name=None)\n",
            "  137925875834640: TensorSpec(shape=(), dtype=tf.resource, name=None)\n",
            "  137925875834448: TensorSpec(shape=(), dtype=tf.resource, name=None)\n",
            "  137925875832720: TensorSpec(shape=(), dtype=tf.resource, name=None)\n",
            "  137925875834256: TensorSpec(shape=(), dtype=tf.resource, name=None)\n",
            "  137925875833680: TensorSpec(shape=(), dtype=tf.resource, name=None)\n",
            "  137925875831760: TensorSpec(shape=(), dtype=tf.resource, name=None)\n",
            "  137925875835792: TensorSpec(shape=(), dtype=tf.resource, name=None)\n",
            "  137925875835600: TensorSpec(shape=(), dtype=tf.resource, name=None)\n",
            "  137925875833872: TensorSpec(shape=(), dtype=tf.resource, name=None)\n",
            "  137925875835408: TensorSpec(shape=(), dtype=tf.resource, name=None)\n",
            "  137925875834832: TensorSpec(shape=(), dtype=tf.resource, name=None)\n",
            "  137925875832912: TensorSpec(shape=(), dtype=tf.resource, name=None)\n",
            "  137925875836944: TensorSpec(shape=(), dtype=tf.resource, name=None)\n",
            "  137925875836752: TensorSpec(shape=(), dtype=tf.resource, name=None)\n",
            "  137925875835024: TensorSpec(shape=(), dtype=tf.resource, name=None)\n",
            "  137925875836560: TensorSpec(shape=(), dtype=tf.resource, name=None)\n",
            "  137925875835984: TensorSpec(shape=(), dtype=tf.resource, name=None)\n",
            "  137925875834064: TensorSpec(shape=(), dtype=tf.resource, name=None)\n",
            "  137925875838096: TensorSpec(shape=(), dtype=tf.resource, name=None)\n",
            "  137925875837904: TensorSpec(shape=(), dtype=tf.resource, name=None)\n",
            "  137925875836176: TensorSpec(shape=(), dtype=tf.resource, name=None)\n",
            "  137925875837712: TensorSpec(shape=(), dtype=tf.resource, name=None)\n",
            "  137925875837136: TensorSpec(shape=(), dtype=tf.resource, name=None)\n",
            "  137925875835216: TensorSpec(shape=(), dtype=tf.resource, name=None)\n",
            "  137925875839248: TensorSpec(shape=(), dtype=tf.resource, name=None)\n",
            "  137925875839056: TensorSpec(shape=(), dtype=tf.resource, name=None)\n",
            "  137925875837328: TensorSpec(shape=(), dtype=tf.resource, name=None)\n",
            "  137925875838864: TensorSpec(shape=(), dtype=tf.resource, name=None)\n",
            "  137925875838288: TensorSpec(shape=(), dtype=tf.resource, name=None)\n",
            "  137925875836368: TensorSpec(shape=(), dtype=tf.resource, name=None)\n",
            "  137925875840400: TensorSpec(shape=(), dtype=tf.resource, name=None)\n",
            "  137925875840208: TensorSpec(shape=(), dtype=tf.resource, name=None)\n",
            "  137925875838480: TensorSpec(shape=(), dtype=tf.resource, name=None)\n",
            "  137925875840016: TensorSpec(shape=(), dtype=tf.resource, name=None)\n",
            "  137925875839440: TensorSpec(shape=(), dtype=tf.resource, name=None)\n",
            "  137925875837520: TensorSpec(shape=(), dtype=tf.resource, name=None)\n",
            "  137925875841552: TensorSpec(shape=(), dtype=tf.resource, name=None)\n",
            "  137925875841360: TensorSpec(shape=(), dtype=tf.resource, name=None)\n",
            "  137925875839632: TensorSpec(shape=(), dtype=tf.resource, name=None)\n",
            "  137925875841168: TensorSpec(shape=(), dtype=tf.resource, name=None)\n",
            "  137925875840592: TensorSpec(shape=(), dtype=tf.resource, name=None)\n",
            "  137925875838672: TensorSpec(shape=(), dtype=tf.resource, name=None)\n",
            "  137925875842704: TensorSpec(shape=(), dtype=tf.resource, name=None)\n",
            "  137925875842512: TensorSpec(shape=(), dtype=tf.resource, name=None)\n",
            "  137925875840784: TensorSpec(shape=(), dtype=tf.resource, name=None)\n",
            "  137925875842320: TensorSpec(shape=(), dtype=tf.resource, name=None)\n",
            "  137925875841936: TensorSpec(shape=(), dtype=tf.resource, name=None)\n",
            "  137925875839824: TensorSpec(shape=(), dtype=tf.resource, name=None)\n",
            "  137925875842896: TensorSpec(shape=(), dtype=tf.resource, name=None)\n",
            "  137925875840976: TensorSpec(shape=(), dtype=tf.resource, name=None)\n",
            "  137925875842128: TensorSpec(shape=(), dtype=tf.resource, name=None)\n",
            "  137925875841744: TensorSpec(shape=(), dtype=tf.resource, name=None)\n",
            "  137925765186192: TensorSpec(shape=(), dtype=tf.resource, name=None)\n",
            "  137925765186576: TensorSpec(shape=(), dtype=tf.resource, name=None)\n",
            "  137925765187536: TensorSpec(shape=(), dtype=tf.resource, name=None)\n",
            "  137925765187344: TensorSpec(shape=(), dtype=tf.resource, name=None)\n",
            "  137925765186768: TensorSpec(shape=(), dtype=tf.resource, name=None)\n",
            "  137925765188304: TensorSpec(shape=(), dtype=tf.resource, name=None)\n",
            "  137925765187728: TensorSpec(shape=(), dtype=tf.resource, name=None)\n",
            "  137925765187152: TensorSpec(shape=(), dtype=tf.resource, name=None)\n",
            "  137925765185616: TensorSpec(shape=(), dtype=tf.resource, name=None)\n",
            "  137925765186384: TensorSpec(shape=(), dtype=tf.resource, name=None)\n",
            "  137925765189072: TensorSpec(shape=(), dtype=tf.resource, name=None)\n",
            "  137925765188880: TensorSpec(shape=(), dtype=tf.resource, name=None)\n",
            "  137925765187920: TensorSpec(shape=(), dtype=tf.resource, name=None)\n",
            "  137925765189648: TensorSpec(shape=(), dtype=tf.resource, name=None)\n",
            "  137925765189840: TensorSpec(shape=(), dtype=tf.resource, name=None)\n",
            "  137925765189264: TensorSpec(shape=(), dtype=tf.resource, name=None)\n",
            "  137925765189456: TensorSpec(shape=(), dtype=tf.resource, name=None)\n",
            "  137925765188688: TensorSpec(shape=(), dtype=tf.resource, name=None)\n",
            "  137925765188496: TensorSpec(shape=(), dtype=tf.resource, name=None)\n",
            "  137925765186960: TensorSpec(shape=(), dtype=tf.resource, name=None)\n",
            "  137925765190992: TensorSpec(shape=(), dtype=tf.resource, name=None)\n",
            "  137925765190800: TensorSpec(shape=(), dtype=tf.resource, name=None)\n",
            "  137925765185808: TensorSpec(shape=(), dtype=tf.resource, name=None)\n",
            "  137925765190608: TensorSpec(shape=(), dtype=tf.resource, name=None)\n",
            "  137925765190032: TensorSpec(shape=(), dtype=tf.resource, name=None)\n",
            "  137925765188112: TensorSpec(shape=(), dtype=tf.resource, name=None)\n",
            "  137925765192144: TensorSpec(shape=(), dtype=tf.resource, name=None)\n",
            "  137925765191952: TensorSpec(shape=(), dtype=tf.resource, name=None)\n",
            "  137925765190224: TensorSpec(shape=(), dtype=tf.resource, name=None)\n",
            "  137925765191760: TensorSpec(shape=(), dtype=tf.resource, name=None)\n",
            "  137925765191184: TensorSpec(shape=(), dtype=tf.resource, name=None)\n",
            "  137925765186000: TensorSpec(shape=(), dtype=tf.resource, name=None)\n",
            "  137925765193296: TensorSpec(shape=(), dtype=tf.resource, name=None)\n",
            "  137925765193104: TensorSpec(shape=(), dtype=tf.resource, name=None)\n",
            "  137925765191376: TensorSpec(shape=(), dtype=tf.resource, name=None)\n",
            "  137925765192912: TensorSpec(shape=(), dtype=tf.resource, name=None)\n",
            "  137925765192336: TensorSpec(shape=(), dtype=tf.resource, name=None)\n",
            "  137925765190416: TensorSpec(shape=(), dtype=tf.resource, name=None)\n",
            "  137925765194448: TensorSpec(shape=(), dtype=tf.resource, name=None)\n",
            "  137925765194256: TensorSpec(shape=(), dtype=tf.resource, name=None)\n",
            "  137925765192528: TensorSpec(shape=(), dtype=tf.resource, name=None)\n",
            "  137925765194064: TensorSpec(shape=(), dtype=tf.resource, name=None)\n",
            "  137925765193488: TensorSpec(shape=(), dtype=tf.resource, name=None)\n",
            "  137925765191568: TensorSpec(shape=(), dtype=tf.resource, name=None)\n",
            "  137925765195600: TensorSpec(shape=(), dtype=tf.resource, name=None)\n",
            "  137925765195408: TensorSpec(shape=(), dtype=tf.resource, name=None)\n",
            "  137925765193680: TensorSpec(shape=(), dtype=tf.resource, name=None)\n",
            "  137925765195216: TensorSpec(shape=(), dtype=tf.resource, name=None)\n",
            "  137925765194640: TensorSpec(shape=(), dtype=tf.resource, name=None)\n",
            "  137925765192720: TensorSpec(shape=(), dtype=tf.resource, name=None)\n",
            "  137925765196752: TensorSpec(shape=(), dtype=tf.resource, name=None)\n",
            "  137925765196560: TensorSpec(shape=(), dtype=tf.resource, name=None)\n",
            "  137925765194832: TensorSpec(shape=(), dtype=tf.resource, name=None)\n",
            "  137925765196176: TensorSpec(shape=(), dtype=tf.resource, name=None)\n",
            "  137925765197520: TensorSpec(shape=(), dtype=tf.resource, name=None)\n",
            "  137925765195984: TensorSpec(shape=(), dtype=tf.resource, name=None)\n",
            "  137925765196368: TensorSpec(shape=(), dtype=tf.resource, name=None)\n"
          ]
        },
        {
          "output_type": "stream",
          "name": "stderr",
          "text": [
            "/usr/local/lib/python3.12/dist-packages/tensorflow/lite/python/convert.py:854: UserWarning: Statistics for quantized inputs were expected, but not specified; continuing anyway.\n",
            "  warnings.warn(\n"
          ]
        },
        {
          "output_type": "stream",
          "name": "stdout",
          "text": [
            "Full int8 TFLite model saved: resnet_fruit_model_int8.tflite\n",
            "TFLite model size: 35.37 MB\n"
          ]
        },
        {
          "output_type": "stream",
          "name": "stderr",
          "text": [
            "/usr/local/lib/python3.12/dist-packages/tensorflow/lite/python/interpreter.py:457: UserWarning:     Warning: tf.lite.Interpreter is deprecated and is scheduled for deletion in\n",
            "    TF 2.20. Please use the LiteRT interpreter from the ai_edge_litert package.\n",
            "    See the [migration guide](https://ai.google.dev/edge/litert/migration)\n",
            "    for details.\n",
            "    \n",
            "  warnings.warn(_INTERPRETER_DELETION_WARNING)\n"
          ]
        },
        {
          "output_type": "stream",
          "name": "stdout",
          "text": [
            "Full int8 TFLite Model Accuracy: 84.00%\n"
          ]
        }
      ]
    },
    {
      "cell_type": "code",
      "source": [
        "\n",
        "tflite_file = \"resnet_fruit_model_int8.tflite\"\n",
        "\n",
        "interpreter = tf.lite.Interpreter(model_path=tflite_file)\n",
        "interpreter.allocate_tensors()\n",
        "input_details = interpreter.get_input_details()\n",
        "output_details = interpreter.get_output_details()\n"
      ],
      "metadata": {
        "id": "d3RYmoXw0D7k"
      },
      "execution_count": null,
      "outputs": []
    },
    {
      "cell_type": "code",
      "source": [
        "import os\n",
        "\n",
        "tflite_file = \"resnet_fruit_model_int8.tflite\"\n",
        "\n",
        "\n",
        "size_bytes = os.path.getsize(tflite_file)\n",
        "\n",
        "size_mb = size_bytes / (1024 * 1024)\n",
        "\n",
        "print(f\"TFLite model size: {size_mb:.2f} MB\")\n"
      ],
      "metadata": {
        "colab": {
          "base_uri": "https://localhost:8080/"
        },
        "id": "GYPI8cHZ0Jfy",
        "outputId": "88a05537-1336-4402-cb24-b59aab042156"
      },
      "execution_count": null,
      "outputs": [
        {
          "output_type": "stream",
          "name": "stdout",
          "text": [
            "TFLite model size: 35.37 MB\n"
          ]
        }
      ]
    },
    {
      "cell_type": "code",
      "source": [
        "import os\n",
        "from google.colab import files\n",
        "\n",
        "\n",
        "tflite_file = \"resnet_fruit_model_int8.tflite\"\n",
        "keras_model_file = \"resnet_fruit_model_epoch_10.keras\"\n",
        "\n",
        "\n",
        "size_bytes = os.path.getsize(keras_model_file)\n",
        "size_mb = size_bytes / (1024 * 1024)\n",
        "print(f\"Keras model size: {size_mb:.2f} MB\")\n",
        "\n",
        "size_bytes = os.path.getsize(tflite_file)\n",
        "size_mb = size_bytes / (1024 * 1024)\n",
        "print(f\"TFLite model size: {size_mb:.2f} MB\")\n",
        "\n",
        "\n",
        "files.download(keras_model_file)\n",
        "files.download(tflite_file)\n"
      ],
      "metadata": {
        "colab": {
          "base_uri": "https://localhost:8080/",
          "height": 52
        },
        "id": "XX5gpmPD24GE",
        "outputId": "76b229dc-865c-4b66-df58-6029edd71817"
      },
      "execution_count": null,
      "outputs": [
        {
          "output_type": "stream",
          "name": "stdout",
          "text": [
            "Keras model size: 237.62 MB\n",
            "TFLite model size: 35.37 MB\n"
          ]
        },
        {
          "output_type": "display_data",
          "data": {
            "text/plain": [
              "<IPython.core.display.Javascript object>"
            ],
            "application/javascript": [
              "\n",
              "    async function download(id, filename, size) {\n",
              "      if (!google.colab.kernel.accessAllowed) {\n",
              "        return;\n",
              "      }\n",
              "      const div = document.createElement('div');\n",
              "      const label = document.createElement('label');\n",
              "      label.textContent = `Downloading \"${filename}\": `;\n",
              "      div.appendChild(label);\n",
              "      const progress = document.createElement('progress');\n",
              "      progress.max = size;\n",
              "      div.appendChild(progress);\n",
              "      document.body.appendChild(div);\n",
              "\n",
              "      const buffers = [];\n",
              "      let downloaded = 0;\n",
              "\n",
              "      const channel = await google.colab.kernel.comms.open(id);\n",
              "      // Send a message to notify the kernel that we're ready.\n",
              "      channel.send({})\n",
              "\n",
              "      for await (const message of channel.messages) {\n",
              "        // Send a message to notify the kernel that we're ready.\n",
              "        channel.send({})\n",
              "        if (message.buffers) {\n",
              "          for (const buffer of message.buffers) {\n",
              "            buffers.push(buffer);\n",
              "            downloaded += buffer.byteLength;\n",
              "            progress.value = downloaded;\n",
              "          }\n",
              "        }\n",
              "      }\n",
              "      const blob = new Blob(buffers, {type: 'application/binary'});\n",
              "      const a = document.createElement('a');\n",
              "      a.href = window.URL.createObjectURL(blob);\n",
              "      a.download = filename;\n",
              "      div.appendChild(a);\n",
              "      a.click();\n",
              "      div.remove();\n",
              "    }\n",
              "  "
            ]
          },
          "metadata": {}
        },
        {
          "output_type": "display_data",
          "data": {
            "text/plain": [
              "<IPython.core.display.Javascript object>"
            ],
            "application/javascript": [
              "download(\"download_b21a2a5a-b31c-4262-a9b2-c0759796979d\", \"resnet_fruit_model_epoch_10.keras\", 249159856)"
            ]
          },
          "metadata": {}
        },
        {
          "output_type": "display_data",
          "data": {
            "text/plain": [
              "<IPython.core.display.Javascript object>"
            ],
            "application/javascript": [
              "\n",
              "    async function download(id, filename, size) {\n",
              "      if (!google.colab.kernel.accessAllowed) {\n",
              "        return;\n",
              "      }\n",
              "      const div = document.createElement('div');\n",
              "      const label = document.createElement('label');\n",
              "      label.textContent = `Downloading \"${filename}\": `;\n",
              "      div.appendChild(label);\n",
              "      const progress = document.createElement('progress');\n",
              "      progress.max = size;\n",
              "      div.appendChild(progress);\n",
              "      document.body.appendChild(div);\n",
              "\n",
              "      const buffers = [];\n",
              "      let downloaded = 0;\n",
              "\n",
              "      const channel = await google.colab.kernel.comms.open(id);\n",
              "      // Send a message to notify the kernel that we're ready.\n",
              "      channel.send({})\n",
              "\n",
              "      for await (const message of channel.messages) {\n",
              "        // Send a message to notify the kernel that we're ready.\n",
              "        channel.send({})\n",
              "        if (message.buffers) {\n",
              "          for (const buffer of message.buffers) {\n",
              "            buffers.push(buffer);\n",
              "            downloaded += buffer.byteLength;\n",
              "            progress.value = downloaded;\n",
              "          }\n",
              "        }\n",
              "      }\n",
              "      const blob = new Blob(buffers, {type: 'application/binary'});\n",
              "      const a = document.createElement('a');\n",
              "      a.href = window.URL.createObjectURL(blob);\n",
              "      a.download = filename;\n",
              "      div.appendChild(a);\n",
              "      a.click();\n",
              "      div.remove();\n",
              "    }\n",
              "  "
            ]
          },
          "metadata": {}
        },
        {
          "output_type": "display_data",
          "data": {
            "text/plain": [
              "<IPython.core.display.Javascript object>"
            ],
            "application/javascript": [
              "download(\"download_2765706e-ae6b-4414-9932-a3830905b6d4\", \"resnet_fruit_model_int8.tflite\", 37086744)"
            ]
          },
          "metadata": {}
        }
      ]
    },
    {
      "cell_type": "markdown",
      "source": [
        "CONCLUSION: QUANTIZED MODEL HAS SIZE OF 35 MB NOW AND ACCURACY IS 84%(ONLY 1% DROP IN ACCURACY)"
      ],
      "metadata": {
        "id": "QbHeMdnu2V1Z"
      }
    }
  ]
}